{
 "cells": [
  {
   "cell_type": "code",
   "execution_count": null,
   "id": "d00c1c98",
   "metadata": {},
   "outputs": [],
   "source": [
    "import pandas as pd\n",
    "import requests\n",
    "from bs4 import BeautifulSoup as BS"
   ]
  },
  {
   "cell_type": "code",
   "execution_count": null,
   "id": "c7618d8e",
   "metadata": {},
   "outputs": [],
   "source": [
    "URL = 'https://en.wikipedia.org/wiki/List_of_United_States_hurricanes'\n",
    "\n",
    "response = requests.get(URL)"
   ]
  },
  {
   "cell_type": "code",
   "execution_count": null,
   "id": "07e8b71a",
   "metadata": {},
   "outputs": [],
   "source": [
    "response.status_code"
   ]
  },
  {
   "cell_type": "code",
   "execution_count": null,
   "id": "99bebd9e",
   "metadata": {},
   "outputs": [],
   "source": [
    "soup = BS(response.text)\n",
    "soup"
   ]
  },
  {
   "cell_type": "code",
   "execution_count": null,
   "id": "b769c634",
   "metadata": {},
   "outputs": [],
   "source": [
    "soup.find('tbody')"
   ]
  },
  {
   "cell_type": "code",
   "execution_count": null,
   "id": "c75fad59",
   "metadata": {},
   "outputs": [],
   "source": [
    "Alabama = pd.read_html(str(soup.find_all('table', class_=  'wikitable')))[1]\n",
    "Alabama"
   ]
  },
  {
   "cell_type": "code",
   "execution_count": null,
   "id": "542537b4",
   "metadata": {},
   "outputs": [],
   "source": [
    "Alabama['Landfall'] = 'Alabama'\n",
    "Alabama.drop(Alabama.columns[[-2, -3, -4,-5,-6]], axis = 1, inplace = True)\n",
    "Alabama= Alabama.drop(Alabama.index[-1:])\n",
    "Alabama['Saffir–SimpsonCategory'] = Alabama['Saffir–SimpsonCategory'].str.extract('(\\d+)', expand=False)\n",
    "Alabama"
   ]
  },
  {
   "cell_type": "code",
   "execution_count": null,
   "id": "9d27188a",
   "metadata": {},
   "outputs": [],
   "source": [
    "Conneticut = pd.read_html(str(soup.find_all('table', class_=  'wikitable')))[2]\n",
    "Conneticut"
   ]
  },
  {
   "cell_type": "code",
   "execution_count": null,
   "id": "2bc4b248",
   "metadata": {},
   "outputs": [],
   "source": [
    "Conneticut['Landfall'] = 'Conneticut'\n",
    "Conneticut.drop(Conneticut.columns[[-2, -3, -4,-5,-6]], axis = 1, inplace = True)\n",
    "Conneticut= Conneticut.drop(Conneticut.index[-1:])\n",
    "Conneticut['Saffir–SimpsonCategory'] = Conneticut['Saffir–SimpsonCategory'].str.extract('(\\d+)', expand=False)\n",
    "Conneticut"
   ]
  },
  {
   "cell_type": "code",
   "execution_count": null,
   "id": "2c265679",
   "metadata": {},
   "outputs": [],
   "source": [
    "Deleware = pd.read_html(str(soup.find_all('table', class_=  'wikitable')))[3]"
   ]
  },
  {
   "cell_type": "code",
   "execution_count": null,
   "id": "7f88eb89",
   "metadata": {},
   "outputs": [],
   "source": [
    "Deleware['Landfall'] = 'Deleware'\n",
    "Deleware.drop(Deleware.columns[[-2, -3, -4,-5,-6]], axis = 1, inplace = True)\n",
    "Deleware= Deleware.drop(Deleware.index[-1:])\n",
    "Deleware['Saffir–SimpsonCategory'] = Deleware['Saffir–SimpsonCategory'].str.extract('(\\d+)', expand=False)\n",
    "Deleware"
   ]
  },
  {
   "cell_type": "code",
   "execution_count": null,
   "id": "bd889ef9",
   "metadata": {},
   "outputs": [],
   "source": [
    "Florida = pd.read_html(str(soup.find_all('table', class_=  'wikitable')))[4]"
   ]
  },
  {
   "cell_type": "code",
   "execution_count": null,
   "id": "ba706e7d",
   "metadata": {},
   "outputs": [],
   "source": [
    "Florida['Landfall'] = 'Florida'\n",
    "Florida.drop(Florida.columns[[-2, -3, -4,-5,-6]], axis = 1, inplace = True)\n",
    "Florida= Florida.drop(Florida.index[-1:])\n",
    "Florida['Saffir–SimpsonCategory'] = Florida['Saffir–SimpsonCategory'].str.extract('(\\d+)', expand=False)\n",
    "Florida"
   ]
  },
  {
   "cell_type": "code",
   "execution_count": null,
   "id": "0fb38960",
   "metadata": {},
   "outputs": [],
   "source": [
    "Georgia = pd.read_html(str(soup.find_all('table', class_=  'wikitable')))[5]"
   ]
  },
  {
   "cell_type": "code",
   "execution_count": null,
   "id": "f36b11dd",
   "metadata": {},
   "outputs": [],
   "source": [
    "Georgia['Landfall'] = 'Georgia'\n",
    "Georgia.drop(Georgia.columns[[-2, -3, -4,-5,-6]], axis = 1, inplace = True)\n",
    "Georgia= Georgia.drop(Georgia.index[-1:])\n",
    "Georgia['Saffir–SimpsonCategory'] = Georgia['Saffir–SimpsonCategory'].str.extract('(\\d+)', expand=False)\n",
    "Georgia"
   ]
  },
  {
   "cell_type": "code",
   "execution_count": null,
   "id": "d0804ef1",
   "metadata": {},
   "outputs": [],
   "source": [
    "Louisiana = pd.read_html(str(soup.find_all('table', class_=  'wikitable')))[6]"
   ]
  },
  {
   "cell_type": "code",
   "execution_count": null,
   "id": "88eb63e1",
   "metadata": {},
   "outputs": [],
   "source": [
    "Louisiana['Landfall'] = 'Louisiana'\n",
    "Louisiana.drop(Louisiana.columns[[-2, -3, -4,-5,-6]], axis = 1, inplace = True)\n",
    "Louisiana= Louisiana.drop(Louisiana.index[-1:])\n",
    "Louisiana['Saffir–SimpsonCategory'] = Louisiana['Saffir–SimpsonCategory'].str.extract('(\\d+)', expand=False)\n",
    "Louisiana"
   ]
  },
  {
   "cell_type": "code",
   "execution_count": null,
   "id": "b2be63bd",
   "metadata": {},
   "outputs": [],
   "source": [
    " Maine = pd.read_html(str(soup.find_all('table', class_=  'wikitable')))[7]"
   ]
  },
  {
   "cell_type": "code",
   "execution_count": null,
   "id": "0648e821",
   "metadata": {},
   "outputs": [],
   "source": [
    "Maine['Landfall'] = 'Maine'\n",
    "Maine.drop(Maine.columns[[-2, -3, -4,-5,-6]], axis = 1, inplace = True)\n",
    "Maine= Maine.drop(Maine.index[-1:])\n",
    "Maine['Saffir–SimpsonCategory'] = Maine['Saffir–SimpsonCategory'].str.extract('(\\d+)', expand=False)\n",
    "Maine\n"
   ]
  },
  {
   "cell_type": "code",
   "execution_count": null,
   "id": "3a38e4e0",
   "metadata": {},
   "outputs": [],
   "source": [
    "Maryland = pd.read_html(str(soup.find_all('table', class_=  'wikitable')))[8]"
   ]
  },
  {
   "cell_type": "code",
   "execution_count": null,
   "id": "89fafa36",
   "metadata": {},
   "outputs": [],
   "source": [
    "Maryland['Landfall'] = 'Maryland'\n",
    "Maryland.drop(Maryland.columns[[-2, -3, -4,-5,-6]], axis = 1, inplace = True)\n",
    "Maryland= Maryland.drop(Maryland.index[-1:])\n",
    "Maryland['Saffir–SimpsonCategory'] = Maryland['Saffir–SimpsonCategory'].str.extract('(\\d+)', expand=False)\n",
    "Maryland"
   ]
  },
  {
   "cell_type": "code",
   "execution_count": null,
   "id": "ef38e612",
   "metadata": {},
   "outputs": [],
   "source": [
    "Massachusetts = pd.read_html(str(soup.find_all('table', class_=  'wikitable')))[9]"
   ]
  },
  {
   "cell_type": "code",
   "execution_count": null,
   "id": "621271ba",
   "metadata": {},
   "outputs": [],
   "source": [
    "Massachusetts['Landfall'] = 'Massachusetts'\n",
    "Massachusetts.drop(Massachusetts.columns[[-2, -3, -4,-5,-6]], axis = 1, inplace = True)\n",
    "Massachusetts= Massachusetts.drop(Massachusetts.index[-1:])\n",
    "Massachusetts['Saffir–SimpsonCategory'] = Massachusetts['Saffir–SimpsonCategory'].str.extract('(\\d+)', expand=False)\n",
    "Massachusetts"
   ]
  },
  {
   "cell_type": "code",
   "execution_count": null,
   "id": "a16e57b7",
   "metadata": {},
   "outputs": [],
   "source": [
    "Mississippi =pd.read_html(str(soup.find_all('table', class_=  'wikitable')))[10]"
   ]
  },
  {
   "cell_type": "code",
   "execution_count": null,
   "id": "bf739ec8",
   "metadata": {},
   "outputs": [],
   "source": [
    "Mississippi['Landfall'] = 'Mississippi'\n",
    "Mississippi.drop(Mississippi.columns[[-2, -3, -4,-5,-6]], axis = 1, inplace = True)\n",
    "Mississippi= Mississippi.drop(Mississippi.index[-1:])\n",
    "Mississippi['Saffir–SimpsonCategory'] = Mississippi['Saffir–SimpsonCategory'].str.extract('(\\d+)', expand=False)\n",
    "Mississippi"
   ]
  },
  {
   "cell_type": "code",
   "execution_count": null,
   "id": "7ed33e2e",
   "metadata": {},
   "outputs": [],
   "source": [
    "New_Hampshire = pd.read_html(str(soup.find_all('table', class_=  'wikitable')))[11]"
   ]
  },
  {
   "cell_type": "code",
   "execution_count": null,
   "id": "e52bf6cb",
   "metadata": {},
   "outputs": [],
   "source": [
    "New_Hampshire['Landfall'] = 'New Hampshire'\n",
    "New_Hampshire.drop(New_Hampshire.columns[[-2, -3, -4,-5,-6]], axis = 1, inplace = True)\n",
    "New_Hampshire= New_Hampshire.drop(New_Hampshire.index[-1:])\n",
    "New_Hampshire['Saffir–SimpsonCategory'] = New_Hampshire['Saffir–SimpsonCategory'].str.extract('(\\d+)', expand=False)\n",
    "New_Hampshire"
   ]
  },
  {
   "cell_type": "code",
   "execution_count": null,
   "id": "13367026",
   "metadata": {},
   "outputs": [],
   "source": [
    " New_Jersey = pd.read_html(str(soup.find_all('table', class_=  'wikitable')))[12]"
   ]
  },
  {
   "cell_type": "code",
   "execution_count": null,
   "id": "8ad1f658",
   "metadata": {},
   "outputs": [],
   "source": [
    "New_Jersey['Landfall'] = 'New Jersey'\n",
    "New_Jersey.drop(New_Jersey.columns[[-2, -3, -4,-5,-6]], axis = 1, inplace = True)\n",
    "New_Jersey= New_Jersey.drop(New_Jersey.index[-1:])\n",
    "New_Jersey['Saffir–SimpsonCategory'] = New_Jersey['Saffir–SimpsonCategory'].str.extract('(\\d+)', expand=False)\n",
    "New_Jersey\n"
   ]
  },
  {
   "cell_type": "code",
   "execution_count": null,
   "id": "70078999",
   "metadata": {},
   "outputs": [],
   "source": [
    "New_York = pd.read_html(str(soup.find_all('table', class_=  'wikitable')))[13]"
   ]
  },
  {
   "cell_type": "code",
   "execution_count": null,
   "id": "35a83ef2",
   "metadata": {},
   "outputs": [],
   "source": [
    "New_York['Landfall'] = 'New York'\n",
    "New_York.drop(New_York.columns[[-2, -3, -4,-5,-6]], axis = 1, inplace = True)\n",
    "New_York= New_York.drop(New_York.index[-1:])\n",
    "New_York['Saffir–SimpsonCategory'] = New_York['Saffir–SimpsonCategory'].str.extract('(\\d+)', expand=False)\n",
    "New_York\n"
   ]
  },
  {
   "cell_type": "code",
   "execution_count": null,
   "id": "0062ea8b",
   "metadata": {},
   "outputs": [],
   "source": [
    "North_Carolina = pd.read_html(str(soup.find_all('table', class_=  'wikitable')))[14]"
   ]
  },
  {
   "cell_type": "code",
   "execution_count": null,
   "id": "accf8965",
   "metadata": {},
   "outputs": [],
   "source": [
    "North_Carolina['Landfall'] = 'North Carolina'\n",
    "North_Carolina.drop(North_Carolina.columns[[-2, -3, -4,-5,-6]], axis = 1, inplace = True)\n",
    "North_Carolina= North_Carolina.drop(North_Carolina.index[-1:])\n",
    "North_Carolina['Saffir–SimpsonCategory'] = North_Carolina['Saffir–SimpsonCategory'].str.extract('(\\d+)', expand=False)\n",
    "North_Carolina\n"
   ]
  },
  {
   "cell_type": "code",
   "execution_count": null,
   "id": "a71d02df",
   "metadata": {},
   "outputs": [],
   "source": [
    "Rhode_Island = pd.read_html(str(soup.find_all('table', class_=  'wikitable')))[15]"
   ]
  },
  {
   "cell_type": "code",
   "execution_count": null,
   "id": "b02db14c",
   "metadata": {},
   "outputs": [],
   "source": [
    "Rhode_Island['Landfall'] = 'Rhode Island'\n",
    "Rhode_Island.drop(Rhode_Island.columns[[-2, -3, -4,-5,-6]], axis = 1, inplace = True)\n",
    "Rhode_Island= Rhode_Island.drop(Rhode_Island.index[-1:])\n",
    "Rhode_Island['Saffir–SimpsonCategory'] = Rhode_Island['Saffir–SimpsonCategory'].str.extract('(\\d+)', expand=False)\n",
    "Rhode_Island\n"
   ]
  },
  {
   "cell_type": "code",
   "execution_count": null,
   "id": "4a91f1bc",
   "metadata": {},
   "outputs": [],
   "source": [
    "South_Carolina = pd.read_html(str(soup.find_all('table', class_=  'wikitable')))[16]"
   ]
  },
  {
   "cell_type": "code",
   "execution_count": null,
   "id": "528a459e",
   "metadata": {},
   "outputs": [],
   "source": [
    "South_Carolina['Landfall'] = 'South Carolina'\n",
    "South_Carolina.drop(South_Carolina.columns[[-2, -3, -4,-5,-6]], axis = 1, inplace = True)\n",
    "South_Carolina= South_Carolina.drop(South_Carolina.index[-1:])\n",
    "South_Carolina['Saffir–SimpsonCategory'] = South_Carolina['Saffir–SimpsonCategory'].str.extract('(\\d+)', expand=False)\n",
    "South_Carolina\n"
   ]
  },
  {
   "cell_type": "code",
   "execution_count": null,
   "id": "1ba2ee71",
   "metadata": {},
   "outputs": [],
   "source": [
    "Texas = pd.read_html(str(soup.find_all('table', class_=  'wikitable')))[17]"
   ]
  },
  {
   "cell_type": "code",
   "execution_count": null,
   "id": "06b00ac4",
   "metadata": {},
   "outputs": [],
   "source": [
    "Texas['Landfall'] = 'Texas'\n",
    "Texas.drop(Texas.columns[[-2, -3, -4,-5,-6]], axis = 1, inplace = True)\n",
    "Texas= Texas.drop(Texas.index[-1:])\n",
    "Texas['Saffir–SimpsonCategory'] = Texas['Saffir–SimpsonCategory'].str.extract('(\\d+)', expand=False)\n",
    "Texas"
   ]
  },
  {
   "cell_type": "code",
   "execution_count": null,
   "id": "8c24695a",
   "metadata": {},
   "outputs": [],
   "source": [
    "Virginia = pd.read_html(str(soup.find_all('table', class_=  'wikitable')))[18]"
   ]
  },
  {
   "cell_type": "code",
   "execution_count": null,
   "id": "11830564",
   "metadata": {},
   "outputs": [],
   "source": [
    "Virginia['Landfall'] = 'Virginia'\n",
    "Virginia"
   ]
  },
  {
   "cell_type": "code",
   "execution_count": null,
   "id": "d4182c62",
   "metadata": {},
   "outputs": [],
   "source": [
    "Virginia.drop(Virginia.columns[[-2, -3, -4,-5,-6]], axis = 1, inplace = True)\n",
    "Virginia"
   ]
  },
  {
   "cell_type": "code",
   "execution_count": null,
   "id": "cac4a005",
   "metadata": {},
   "outputs": [],
   "source": [
    "Virginia= Virginia.drop(Virginia.index[-1:])"
   ]
  },
  {
   "cell_type": "code",
   "execution_count": null,
   "id": "323aa8e6",
   "metadata": {},
   "outputs": [],
   "source": [
    "Virginia['Saffir–SimpsonCategory'] = Virginia['Saffir–SimpsonCategory'].str.extract('(\\d+)', expand=False)"
   ]
  },
  {
   "cell_type": "code",
   "execution_count": null,
   "id": "6ee04991",
   "metadata": {},
   "outputs": [],
   "source": [
    "Virginia"
   ]
  },
  {
   "cell_type": "code",
   "execution_count": null,
   "id": "207c957e",
   "metadata": {},
   "outputs": [],
   "source": [
    "USLandfall = pd.concat([Alabama, \n",
    "\t\t\t\t\t\tConneticut,\n",
    "\t\t\t\t\t\tDeleware,\n",
    "\t\t\t\t\t\tFlorida,\n",
    "\t\t\t\t\t\tGeorgia,\n",
    "\t\t\t\t\t\tLouisiana,\n",
    "\t\t\t\t\t\tMaine,\n",
    "\t\t\t\t\t\tMaryland,\n",
    "\t\t\t\t\t\tMassachusetts,\n",
    "\t\t\t\t\t\tMississippi,\n",
    "\t\t\t\t\t\tNew_Hampshire,\n",
    "\t\t\t\t\t\tNew_Jersey,\n",
    "\t\t\t\t\t\tNew_York,\n",
    "\t\t\t\t\t\tNorth_Carolina,\n",
    "\t\t\t\t\t\tRhode_Island,\n",
    "\t\t\t\t\t\tSouth_Carolina,\n",
    "\t\t\t\t\t\tTexas,\n",
    "\t\t\t\t\t\tVirginia], ignore_index=True)"
   ]
  },
  {
   "cell_type": "code",
   "execution_count": null,
   "id": "db1a9e8e",
   "metadata": {},
   "outputs": [],
   "source": [
    "USLandfall['Landfall'].value_counts()"
   ]
  },
  {
   "cell_type": "code",
   "execution_count": null,
   "id": "d0cfb438",
   "metadata": {},
   "outputs": [],
   "source": [
    "USLandfall.dtypes"
   ]
  },
  {
   "cell_type": "code",
   "execution_count": null,
   "id": "87a7b457",
   "metadata": {},
   "outputs": [],
   "source": [
    "USLandfall.rename(columns = {'Saffir–SimpsonCategory':'Category', 'Date of closest approach':'DateImpact'}, inplace = True)"
   ]
  },
  {
   "cell_type": "code",
   "execution_count": null,
   "id": "60b42b5e",
   "metadata": {},
   "outputs": [],
   "source": [
    "USLandfall"
   ]
  },
  {
   "cell_type": "code",
   "execution_count": null,
   "id": "bf02ee18",
   "metadata": {},
   "outputs": [],
   "source": [
    "#pd.to_datetime(USLandfall.DateImpact)\n",
    "USLandfall.dtypes"
   ]
  },
  {
   "cell_type": "code",
   "execution_count": null,
   "id": "fd499e14",
   "metadata": {},
   "outputs": [],
   "source": [
    "strong_winds = pd.read_csv('../data/4-load_strong_winds.csv')\n",
    "strong_winds.head()"
   ]
  },
  {
   "cell_type": "code",
   "execution_count": null,
   "id": "c3683cb9",
   "metadata": {},
   "outputs": [],
   "source": [
    "Canes = pd.merge(strong_winds, USLandfall, how='outer' , left_on= ['Name', 'Year'], right_on =['Name', 'Year', ])\n",
    "Canes.head()"
   ]
  },
  {
   "cell_type": "code",
   "execution_count": null,
   "id": "b8ef748c",
   "metadata": {},
   "outputs": [],
   "source": [
    "Canes.describe"
   ]
  },
  {
   "cell_type": "code",
   "execution_count": null,
   "id": "e840cbef",
   "metadata": {},
   "outputs": [],
   "source": [
    "Canes.to_csv('Canesedit.csv')\n",
    "#USLandfall.to_csv('Landfall.csv')"
   ]
  },
  {
   "cell_type": "code",
   "execution_count": null,
   "id": "20e93a2c",
   "metadata": {},
   "outputs": [],
   "source": [
    "Canes.Year.value_counts()\n"
   ]
  },
  {
   "cell_type": "code",
   "execution_count": null,
   "id": "38c8aeb2",
   "metadata": {},
   "outputs": [],
   "source": [
    "USLandfall.Category.value_counts()"
   ]
  },
  {
   "cell_type": "code",
   "execution_count": null,
   "id": "9a290c99",
   "metadata": {},
   "outputs": [],
   "source": [
    "strong_winds.Category.value_counts()"
   ]
  },
  {
   "cell_type": "code",
   "execution_count": null,
   "id": "f01cba97",
   "metadata": {},
   "outputs": [],
   "source": []
  }
 ],
 "metadata": {
  "kernelspec": {
   "display_name": "Python 3",
   "language": "python",
   "name": "python3"
  },
  "language_info": {
   "codemirror_mode": {
    "name": "ipython",
    "version": 3
   },
   "file_extension": ".py",
   "mimetype": "text/x-python",
   "name": "python",
   "nbconvert_exporter": "python",
   "pygments_lexer": "ipython3",
   "version": "3.8.8"
  }
 },
 "nbformat": 4,
 "nbformat_minor": 5
}
